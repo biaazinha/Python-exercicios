{
 "cells": [
  {
   "cell_type": "markdown",
   "id": "ae7aa40e",
   "metadata": {},
   "source": [
    "# Exercícios - Classes"
   ]
  },
  {
   "cell_type": "code",
   "execution_count": 1,
   "id": "f5ca3b79",
   "metadata": {},
   "outputs": [],
   "source": [
    "# Exercício 1 - Crie um objeto a partir da classe abaixo, chamado roc1, \n",
    "# passando 2 parâmetros e depois faça uma chamada aos atributos e métodos\n",
    "\n",
    "from math import sqrt\n",
    "\n",
    "class Rocket():\n",
    "     \n",
    "    def __init__(self, x=0, y=0):\n",
    "        self.x = x\n",
    "        self.y = y\n",
    "        \n",
    "    def move_rocket(self, x_increment=0, y_increment=1):\n",
    "        self.x += x_increment\n",
    "        self.y += y_increment\n",
    "        \n",
    "    def print_rocket(self):\n",
    "        print(self.x, self.y)\n",
    "        "
   ]
  },
  {
   "cell_type": "code",
   "execution_count": 2,
   "id": "f3cc1ecb",
   "metadata": {},
   "outputs": [],
   "source": [
    "roc1 = Rocket(2, 4)"
   ]
  },
  {
   "cell_type": "code",
   "execution_count": 3,
   "id": "d3a8ec3f",
   "metadata": {},
   "outputs": [
    {
     "name": "stdout",
     "output_type": "stream",
     "text": [
      "2 4\n"
     ]
    }
   ],
   "source": [
    "roc1.print_rocket()"
   ]
  },
  {
   "cell_type": "code",
   "execution_count": 4,
   "id": "496cf10c",
   "metadata": {},
   "outputs": [],
   "source": [
    "roc1.move_rocket(12, 14)"
   ]
  },
  {
   "cell_type": "code",
   "execution_count": 5,
   "id": "12cbbb0b",
   "metadata": {},
   "outputs": [
    {
     "name": "stdout",
     "output_type": "stream",
     "text": [
      "14 18\n"
     ]
    }
   ],
   "source": [
    "roc1.print_rocket()"
   ]
  },
  {
   "cell_type": "code",
   "execution_count": 9,
   "id": "fa379d59",
   "metadata": {},
   "outputs": [],
   "source": [
    "# Exercício 2 - Crie uma classe chamada Pessoa() com os atributos: nome, cidade, telefone e e-mail. Use pelo menos 2\n",
    "# métodos especiais na sua classe. Crie um objeto da sua classe e faça uma chamada a pelo menos um dos seus métodos\n",
    "# especiais\n",
    "\n",
    "class Pessoa:\n",
    "    \n",
    "    def __init__(self, nome, cidade, telefone, email):\n",
    "        \n",
    "        self.nome = nome\n",
    "        self.cidade = cidade\n",
    "        self.telefone = telefone\n",
    "        self.email = email\n",
    "\n",
    "    def imprime(self):\n",
    "        return \"O usuário \" + self.nome + \" mora na cidade \" + self.cidade"
   ]
  },
  {
   "cell_type": "code",
   "execution_count": 10,
   "id": "65325b8c",
   "metadata": {},
   "outputs": [],
   "source": [
    "pessoa1 = Pessoa(\"Bia\", \"Franca\", 16981056974, \"biancakaroliner04@gmail.com\")"
   ]
  },
  {
   "cell_type": "code",
   "execution_count": 11,
   "id": "69517b5e",
   "metadata": {},
   "outputs": [
    {
     "data": {
      "text/plain": [
       "'O usuário Bia mora na cidade Franca'"
      ]
     },
     "execution_count": 11,
     "metadata": {},
     "output_type": "execute_result"
    }
   ],
   "source": [
    "pessoa1.imprime()"
   ]
  },
  {
   "cell_type": "code",
   "execution_count": 19,
   "id": "9e0ccc61",
   "metadata": {},
   "outputs": [],
   "source": [
    "# Exercício 3 - Crie a classe Smartphone com 2 atributos, tamanho e interface e crie a classe MP3Player com os \n",
    "# atributos capacidade. A classe MP3player deve herdar os atributos da classe Smartphone.\n",
    "\n",
    "class Smartphone(object):\n",
    "    def __init__(self, tamanho, interface):\n",
    "        self.tamanho = tamanho\n",
    "        self.interface = interface\n",
    "\n",
    "class MP3Player(Smartphone):\n",
    "    def __init__(self, capacidade = 64, tamanho = 'Pequeno', interface = 'Led'):\n",
    "        self.capacidade = capacidade\n",
    "        Smartphone.__init__(self, tamanho, interface)\n",
    "        print(\"Valores para o objeto criado: %s %s %s\"  %(self.tamanho, self.interface, self.capacidade))"
   ]
  },
  {
   "cell_type": "code",
   "execution_count": 21,
   "id": "7f4a725e",
   "metadata": {},
   "outputs": [
    {
     "name": "stdout",
     "output_type": "stream",
     "text": [
      "Valores para o objeto criado: Pequeno Led 64\n"
     ]
    }
   ],
   "source": [
    "mp3 = MP3Player()"
   ]
  }
 ],
 "metadata": {
  "kernelspec": {
   "display_name": "Python 3 (ipykernel)",
   "language": "python",
   "name": "python3"
  },
  "language_info": {
   "codemirror_mode": {
    "name": "ipython",
    "version": 3
   },
   "file_extension": ".py",
   "mimetype": "text/x-python",
   "name": "python",
   "nbconvert_exporter": "python",
   "pygments_lexer": "ipython3",
   "version": "3.9.13"
  }
 },
 "nbformat": 4,
 "nbformat_minor": 5
}
